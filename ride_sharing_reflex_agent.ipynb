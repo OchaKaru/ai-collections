{
  "nbformat": 4,
  "nbformat_minor": 0,
  "metadata": {
    "colab": {
      "provenance": [],
      "collapsed_sections": []
    },
    "kernelspec": {
      "name": "python3",
      "display_name": "Python 3"
    },
    "language_info": {
      "name": "python"
    }
  },
  "cells": [
    {
      "cell_type": "markdown",
      "source": [
        "First Generate The graph. \n",
        "\n",
        "*   200 Nodes\n",
        "*   Average connectivity of 2 nodes\n",
        "*   Distance is 1/20 of mile between nodes\n",
        "*   Bidirectional"
      ],
      "metadata": {
        "id": "vER7TyJ_b4Jh"
      }
    },
    {
      "cell_type": "code",
      "execution_count": 22,
      "metadata": {
        "id": "M8ImUD1HZQ_G"
      },
      "outputs": [],
      "source": [
        "import networkx as nx\n",
        "seed=1000                                           # seed the graph for reproducibility, you should be doing this  \n",
        "\n",
        "def generateGraph(N, connect):\n",
        "  \n",
        "  prob = connect / (N-1)\n",
        "  \n",
        "\n",
        "  G = nx.gnp_random_graph (N, prob, seed=seed )       # here we create a random binomial graph with 20 nodes and an average (expected) connectivity of 10*.3= 3.\n",
        "\n",
        "  \n",
        "  while True:\n",
        "    edges = nx.bfs_edges(G, 0)\n",
        "    nodes = [0] + [v for u, v in edges]\n",
        "\n",
        "    unreachable = [x for x in range(N) if x not in nodes]\n",
        "\n",
        "    if not unreachable:\n",
        "      break\n",
        "\n",
        "    G.add_edge(random.randrange(0, N, 1), unreachable[0])\n",
        "    \n",
        "\n",
        "  print(\"Edges:\")\n",
        "  print(G.edges())\n",
        "\n",
        "  return G\n"
      ]
    },
    {
      "cell_type": "markdown",
      "source": [
        "Function for generating a journey where the length is at least 2"
      ],
      "metadata": {
        "id": "wAa3ODvoigsV"
      }
    },
    {
      "cell_type": "code",
      "source": [
        "import random\n",
        "random.seed(seed)\n",
        "def randomJourney(G, N):\n",
        "  start = 0\n",
        "  stop = 0\n",
        "\n",
        "  while True:\n",
        "    start = random.randrange(0, N, 1)\n",
        "    stop = random.randrange(0, N, 1)\n",
        "\n",
        "    if nx.shortest_path_length(G, start, stop) >= 2:\n",
        "      break\n",
        "\n",
        "  return start, stop"
      ],
      "metadata": {
        "id": "NKLZVlSGifyU"
      },
      "execution_count": 23,
      "outputs": []
    },
    {
      "cell_type": "markdown",
      "source": [
        "Create customer class\n",
        "* Pick up node\n",
        "* Drop off node"
      ],
      "metadata": {
        "id": "oKQUg9XdeM7k"
      }
    },
    {
      "cell_type": "code",
      "source": [
        "class Customer:\n",
        "  \n",
        "  def __init__(self, id, G, N):\n",
        "    self.id = id\n",
        "    self.start, self.stop = randomJourney(G, N)\n",
        "\n",
        "  def __repr__(self):\n",
        "    return str(self.id)"
      ],
      "metadata": {
        "id": "zBrqHj3Yfjwc"
      },
      "execution_count": 24,
      "outputs": []
    },
    {
      "cell_type": "markdown",
      "source": [
        "Create vehicle class\n",
        "\n",
        "\n",
        "*   Up to 5 customers\n",
        "*   Labeled 1-N\n",
        "* 30 mph\n",
        "\n",
        "\n"
      ],
      "metadata": {
        "id": "VNY9pjvedul2"
      }
    },
    {
      "cell_type": "code",
      "source": [
        "class Vehicle:\n",
        "  def __init__(self, number, currentNode):\n",
        "    self.number = number\n",
        "    self.currentNode =  currentNode\n",
        "    self.path = []\n",
        "    self.passengers = []\n",
        "    self.assigned = []\n",
        "    self.newPickup = False\n",
        "    self.mileage = 0\n",
        "\n",
        "  def generatePickUpPath(self, G, startNode, assList):\n",
        "    if not assList:\n",
        "      return [];\n",
        "\n",
        "    bestPath = [];\n",
        "    bestLength = float('inf');\n",
        "    for p in assList:\n",
        "      newList = [];\n",
        "      #making a newlist that doesn't have the current passenger\n",
        "      for a in assList:\n",
        "        if a != p:\n",
        "          newList.append(a);\n",
        "\n",
        "      #generating the shortest path\n",
        "      currPath = nx.shortest_path(G, self.currentNode, p.start, None) + self.generatePickUpPath(G, p.start, newList);\n",
        "      #count the path length\n",
        "      currLength = len(currPath);\n",
        "\n",
        "      #compare with the best so far\n",
        "      if currLength < bestLength:\n",
        "        bestPath = currPath;\n",
        "        bestLength = currLength;\n",
        "\n",
        "    return bestPath;\n",
        "    \n",
        "  def generateDropOffPath(self, G, startNode, passList):\n",
        "    if not passList:\n",
        "      return [];\n",
        "\n",
        "    bestPath = [];\n",
        "    bestLength = float('inf');\n",
        "    for p in passList:\n",
        "      newList = [];\n",
        "      #making a newlist that doesn't have the current passenger\n",
        "      for a in passList:\n",
        "        if a != p:\n",
        "          newList.append(a);\n",
        "\n",
        "      #generating the shortest path\n",
        "      currPath = nx.shortest_path(G, self.currentNode, p.stop, None) + self.generateDropOffPath(G, p.stop, newList);\n",
        "      #count the path length\n",
        "      currLength = len(currPath);\n",
        "\n",
        "      #compare with the best so far\n",
        "      if currLength < bestLength:\n",
        "        bestPath = currPath;\n",
        "        bestLength = currLength;\n",
        "\n",
        "    return bestPath;\n",
        "\n",
        "  def followPath(self):\n",
        "    if not self.path:\n",
        "      return;\n",
        "\n",
        "    self.currentNode = self.path.pop();\n",
        "    self.mileage = self.mileage + (1/20)\n",
        "    delivered = []; \n",
        "    picked = [];\n",
        "\n",
        "    for a in self.assigned:\n",
        "      if a.start == self.currentNode:\n",
        "        picked.append(a);\n",
        "\n",
        "    for a in picked:\n",
        "      self.assigned.remove(a);\n",
        "      self.passengers.append(a);\n",
        "\n",
        "    for p in self.passengers:\n",
        "      if p.stop == self.currentNode:\n",
        "        delivered.append(p);\n",
        "\n",
        "    for p in delivered:\n",
        "      self.passengers.remove(p);\n",
        "\n",
        "    return;\n"
      ],
      "metadata": {
        "id": "UBmVpL_IhE8Q"
      },
      "execution_count": 25,
      "outputs": []
    },
    {
      "cell_type": "markdown",
      "source": [
        "Generate cars\n",
        "* 20 vehicles\n",
        "* all start on node 0 (\\***ASSUMPTION***)\n",
        "* passenger list starts off empty\n",
        "* no path at beginning. All cars are idle"
      ],
      "metadata": {
        "id": "1_pR9kHljYnD"
      }
    },
    {
      "cell_type": "markdown",
      "source": [
        "Function for finding closest car"
      ],
      "metadata": {
        "id": "77iGIrMYj0Cd"
      }
    },
    {
      "cell_type": "code",
      "source": [
        "def closestVehicle(G, node, vehicles):\n",
        "  closest = Vehicle(-1, 0)\n",
        "  dist = 1000000\n",
        "  \n",
        "  for v in vehicles:\n",
        "    d = nx.shortest_path_length(G, v.currentNode, node)\n",
        "    if d < dist and (len(v.assigned) + len(v.passengers) < 5):\n",
        "      closest = v\n",
        "      dist = d\n",
        "\n",
        "  return closest"
      ],
      "metadata": {
        "id": "AdWf8yFbj2Rz"
      },
      "execution_count": 26,
      "outputs": []
    },
    {
      "cell_type": "markdown",
      "source": [
        "Run simulation\n",
        "* There are 600 timesteps to an hour, so one timestep is 6 seconds\n",
        "* 100-150 reservations per hour, so 1 reservation ever 4-6 timesteps\n",
        "* 8 hours, 4800 timesteps over simulation"
      ],
      "metadata": {
        "id": "bLsIEejFkgFj"
      }
    },
    {
      "cell_type": "code",
      "source": [
        "def simulation(N, connect, cars):\n",
        "\n",
        "  G = generateGraph(N, connect)\n",
        "\n",
        "  vehicles = []\n",
        "\n",
        "  for i in range(cars):\n",
        "    vehicles.append(Vehicle(i + 1, 0))\n",
        "\n",
        "  unassigned = []\n",
        "\n",
        "  for i in range(4800):\n",
        "    \n",
        "    #Generate random passeners every 5 timesteps or 30 seconds\n",
        "    #make more random this will do for now\n",
        "    if i % random.randrange(4, 7, 1) == 0:\n",
        "      unassigned.append(Customer(i, G, N))\n",
        "\n",
        "    copy = list(unassigned)\n",
        "    for cust in copy:\n",
        "      #Find closest car and assign\n",
        "      closest = closestVehicle(G, cust.start, vehicles)\n",
        "      \n",
        "      #if nothing was found\n",
        "      if closest.number != -1:\n",
        "        closest.newPickup = True\n",
        "        closest.assigned.append(cust)\n",
        "        unassigned.remove(cust)\n",
        "\n",
        "    \n",
        "    \n",
        "    for car in vehicles:\n",
        "      #print(car.number, car.assigned, car.passengers, car.path)\n",
        "\n",
        "      if car.newPickup:\n",
        "        car.path = car.generatePickUpPath(G, car.currentNode, car.assigned)\n",
        "        car.newPickup = False;\n",
        "\n",
        "      elif not car.path and car.passengers:\n",
        "        car.path = car.generateDropOffPath(G, car.currentNode, car.passengers)\n",
        "      \n",
        "      #otherwise idle\n",
        "\n",
        "      car.followPath()\n",
        "\n",
        "  average = 0\n",
        "  for car in vehicles:\n",
        "    average += car.mileage\n",
        "  print(\"Average Mileage:\", average/len(vehicles))"
      ],
      "metadata": {
        "id": "ULcq5Sq6Gtvr"
      },
      "execution_count": 27,
      "outputs": []
    },
    {
      "cell_type": "code",
      "source": [
        "print(\"200 node graph, average connectivity of 2, 30 vehicles\")\n",
        "simulation(200, 2, 30)\n",
        "print()\n",
        "print(\"200 node graph, average connectivity of 2, 60 vehicles\")\n",
        "simulation(200, 2, 60)\n",
        "print()\n",
        "print(\"200 node graph, average connectivity of 4, 30 vehicles\")\n",
        "simulation(200, 4, 30)"
      ],
      "metadata": {
        "colab": {
          "base_uri": "https://localhost:8080/"
        },
        "id": "vsYurfOLu3-U",
        "outputId": "7a1f05b0-2249-40bc-c127-529b8840783a"
      },
      "execution_count": 29,
      "outputs": [
        {
          "output_type": "stream",
          "name": "stdout",
          "text": [
            "200 node graph, average connectivity of 2, 30 vehicles\n",
            "Edges:\n",
            "[(0, 123), (0, 142), (1, 183), (1, 100), (2, 38), (2, 73), (3, 57), (3, 112), (4, 125), (4, 144), (5, 159), (5, 175), (5, 96), (6, 172), (6, 128), (7, 97), (7, 127), (7, 156), (8, 140), (8, 190), (9, 48), (9, 95), (10, 119), (10, 180), (10, 188), (11, 33), (11, 66), (11, 135), (11, 139), (12, 41), (12, 110), (12, 156), (12, 174), (12, 25), (13, 70), (13, 117), (14, 137), (14, 170), (14, 171), (14, 182), (15, 48), (15, 138), (16, 32), (16, 75), (16, 81), (17, 100), (17, 139), (18, 173), (18, 190), (18, 193), (18, 199), (19, 32), (19, 33), (19, 68), (20, 72), (20, 81), (20, 150), (21, 93), (21, 141), (22, 61), (22, 186), (23, 105), (23, 120), (24, 90), (25, 108), (26, 93), (26, 128), (26, 141), (26, 181), (26, 153), (27, 86), (28, 94), (29, 45), (30, 65), (31, 128), (31, 154), (32, 86), (32, 189), (33, 123), (34, 50), (34, 106), (34, 120), (34, 131), (34, 37), (35, 141), (35, 162), (35, 174), (36, 134), (36, 156), (36, 155), (38, 61), (38, 86), (39, 136), (39, 188), (40, 66), (40, 77), (41, 173), (42, 158), (42, 199), (43, 123), (43, 69), (44, 62), (44, 115), (44, 116), (44, 137), (45, 47), (45, 68), (45, 133), (45, 137), (46, 134), (46, 124), (47, 52), (48, 173), (48, 194), (49, 149), (49, 97), (50, 89), (50, 105), (51, 136), (52, 138), (52, 178), (53, 190), (54, 136), (54, 146), (54, 186), (55, 138), (56, 67), (58, 88), (58, 185), (59, 102), (59, 91), (60, 146), (60, 143), (61, 79), (62, 113), (63, 119), (64, 166), (65, 94), (65, 168), (67, 161), (67, 179), (68, 158), (68, 180), (70, 95), (70, 147), (70, 197), (71, 123), (72, 147), (72, 76), (74, 190), (74, 199), (75, 100), (77, 101), (77, 123), (78, 138), (78, 159), (78, 176), (80, 113), (81, 104), (81, 129), (81, 142), (81, 157), (81, 166), (82, 138), (82, 187), (83, 119), (83, 139), (83, 182), (84, 166), (85, 159), (86, 145), (87, 121), (87, 130), (87, 98), (87, 109), (88, 105), (88, 118), (88, 161), (89, 105), (89, 142), (90, 172), (91, 127), (92, 131), (93, 188), (94, 111), (94, 173), (96, 122), (98, 148), (98, 164), (99, 108), (99, 103), (101, 165), (104, 163), (105, 144), (105, 171), (107, 130), (108, 169), (110, 180), (112, 138), (113, 160), (114, 123), (119, 131), (119, 156), (119, 167), (120, 137), (120, 184), (126, 139), (126, 186), (128, 186), (129, 193), (130, 186), (132, 193), (133, 191), (133, 192), (134, 152), (137, 138), (137, 193), (138, 145), (142, 198), (146, 156), (146, 166), (151, 191), (157, 167), (157, 192), (159, 162), (161, 193), (165, 196), (166, 173), (167, 185), (171, 185), (174, 188), (176, 195), (177, 198), (181, 186), (184, 186), (184, 194)]\n",
            "Average Mileage: 15.828333333332955\n",
            "\n",
            "200 node graph, average connectivity of 2, 60 vehicles\n",
            "Edges:\n",
            "[(0, 123), (0, 142), (1, 183), (1, 33), (2, 38), (2, 73), (3, 57), (3, 112), (4, 125), (4, 178), (5, 159), (5, 175), (5, 46), (6, 172), (6, 44), (7, 97), (7, 127), (7, 156), (8, 140), (8, 190), (9, 48), (9, 95), (10, 119), (10, 180), (10, 188), (11, 33), (11, 66), (11, 135), (11, 139), (12, 41), (12, 110), (12, 156), (12, 174), (13, 70), (14, 137), (14, 170), (14, 171), (14, 182), (15, 48), (15, 138), (16, 32), (16, 75), (16, 81), (17, 100), (17, 139), (18, 173), (18, 190), (18, 193), (18, 199), (18, 103), (19, 32), (19, 33), (19, 68), (20, 72), (20, 81), (20, 150), (21, 93), (21, 141), (22, 61), (22, 186), (23, 105), (23, 120), (24, 98), (24, 196), (24, 188), (25, 193), (25, 155), (26, 93), (26, 128), (26, 141), (26, 181), (26, 87), (27, 112), (28, 135), (29, 45), (29, 69), (30, 167), (31, 128), (31, 154), (31, 117), (32, 86), (32, 189), (33, 123), (34, 50), (34, 106), (34, 120), (34, 131), (34, 59), (35, 141), (35, 162), (35, 174), (36, 134), (36, 156), (37, 169), (37, 156), (38, 61), (38, 86), (39, 136), (39, 188), (40, 66), (40, 77), (41, 173), (42, 158), (42, 199), (43, 123), (43, 124), (44, 62), (44, 115), (44, 116), (44, 137), (45, 47), (45, 68), (45, 133), (45, 137), (45, 148), (47, 52), (48, 173), (48, 194), (49, 74), (50, 89), (50, 105), (51, 136), (52, 138), (52, 178), (53, 190), (54, 136), (54, 146), (54, 186), (54, 107), (55, 138), (56, 67), (58, 88), (58, 185), (59, 102), (60, 145), (61, 79), (62, 113), (63, 119), (63, 153), (64, 166), (65, 94), (65, 168), (67, 161), (67, 179), (67, 76), (68, 158), (68, 180), (70, 95), (70, 147), (70, 197), (71, 123), (72, 147), (73, 80), (74, 190), (74, 199), (74, 122), (75, 100), (75, 121), (75, 164), (77, 101), (77, 123), (78, 138), (78, 159), (78, 85), (81, 104), (81, 129), (81, 142), (81, 157), (81, 166), (82, 138), (82, 187), (83, 119), (83, 139), (83, 182), (84, 166), (86, 145), (88, 105), (88, 118), (88, 161), (89, 105), (89, 142), (90, 172), (91, 127), (92, 111), (92, 96), (93, 188), (94, 111), (94, 173), (99, 108), (99, 136), (104, 163), (105, 144), (105, 171), (109, 194), (110, 180), (112, 138), (113, 160), (114, 123), (119, 131), (119, 156), (119, 167), (120, 137), (120, 184), (121, 149), (126, 139), (126, 186), (128, 186), (129, 193), (130, 186), (130, 176), (132, 193), (133, 191), (133, 192), (134, 152), (137, 138), (137, 193), (138, 145), (142, 198), (143, 188), (146, 156), (146, 166), (151, 191), (157, 167), (157, 192), (159, 162), (161, 193), (165, 196), (166, 173), (167, 185), (171, 185), (174, 188), (176, 195), (177, 198), (181, 186), (184, 186), (184, 194)]\n",
            "Average Mileage: 7.627499999999858\n",
            "\n",
            "200 node graph, average connectivity of 4, 30 vehicles\n",
            "Edges:\n",
            "[(0, 35), (0, 54), (0, 123), (0, 142), (1, 183), (2, 38), (2, 47), (2, 73), (2, 135), (2, 165), (3, 12), (3, 50), (3, 51), (3, 57), (3, 87), (3, 103), (3, 112), (4, 17), (4, 26), (4, 125), (4, 152), (5, 99), (5, 159), (5, 175), (6, 163), (6, 172), (6, 173), (7, 97), (7, 127), (7, 156), (8, 19), (8, 140), (8, 190), (9, 48), (9, 95), (10, 119), (10, 156), (10, 180), (10, 188), (11, 33), (11, 46), (11, 53), (11, 66), (11, 101), (11, 135), (11, 139), (11, 145), (11, 161), (12, 41), (12, 90), (12, 109), (12, 110), (12, 156), (12, 174), (12, 186), (12, 197), (13, 70), (13, 190), (14, 26), (14, 61), (14, 137), (14, 141), (14, 170), (14, 171), (14, 182), (15, 48), (15, 55), (15, 78), (15, 138), (15, 173), (15, 181), (16, 32), (16, 36), (16, 75), (16, 81), (16, 188), (17, 82), (17, 91), (17, 100), (17, 137), (17, 139), (17, 179), (17, 191), (17, 27), (18, 42), (18, 173), (18, 190), (18, 193), (18, 199), (19, 32), (19, 33), (19, 68), (20, 52), (20, 72), (20, 81), (20, 150), (20, 165), (21, 29), (21, 93), (21, 136), (21, 141), (22, 61), (22, 186), (23, 105), (23, 120), (23, 173), (23, 187), (24, 26), (24, 151), (25, 85), (25, 118), (26, 93), (26, 106), (26, 128), (26, 141), (26, 181), (28, 35), (28, 115), (28, 172), (29, 45), (29, 143), (29, 150), (29, 160), (30, 46), (31, 117), (31, 128), (31, 154), (32, 86), (32, 148), (32, 189), (33, 119), (33, 123), (34, 50), (34, 51), (34, 101), (34, 106), (34, 120), (34, 122), (34, 131), (34, 199), (35, 80), (35, 92), (35, 141), (35, 148), (35, 162), (35, 163), (35, 174), (36, 55), (36, 134), (36, 156), (37, 131), (37, 181), (38, 61), (38, 86), (39, 136), (39, 153), (39, 162), (39, 169), (39, 183), (39, 188), (40, 66), (40, 77), (40, 149), (40, 174), (41, 173), (42, 94), (42, 158), (42, 193), (42, 199), (43, 49), (43, 123), (43, 165), (44, 62), (44, 115), (44, 116), (44, 124), (44, 137), (44, 153), (44, 173), (45, 47), (45, 68), (45, 90), (45, 128), (45, 133), (45, 137), (45, 144), (45, 160), (46, 71), (46, 88), (46, 111), (46, 130), (46, 139), (46, 152), (46, 193), (47, 52), (47, 109), (48, 53), (48, 63), (48, 173), (48, 194), (49, 50), (49, 130), (49, 172), (50, 89), (50, 105), (51, 70), (51, 136), (52, 71), (52, 138), (52, 177), (52, 178), (53, 96), (53, 190), (54, 57), (54, 132), (54, 136), (54, 146), (54, 186), (55, 71), (55, 138), (55, 148), (55, 158), (56, 67), (57, 69), (57, 178), (58, 79), (58, 88), (58, 117), (58, 185), (59, 102), (59, 174), (60, 87), (60, 95), (60, 125), (61, 79), (61, 180), (62, 113), (62, 143), (63, 106), (63, 119), (64, 166), (64, 194), (64, 199), (65, 94), (65, 145), (65, 146), (65, 162), (65, 168), (66, 101), (66, 169), (67, 117), (67, 124), (67, 161), (67, 179), (68, 158), (68, 180), (68, 183), (69, 91), (69, 166), (70, 95), (70, 147), (70, 172), (70, 197), (71, 123), (72, 147), (73, 176), (74, 132), (74, 161), (74, 183), (74, 190), (74, 199), (75, 100), (75, 112), (76, 168), (77, 101), (77, 123), (77, 182), (77, 189), (78, 125), (78, 138), (78, 139), (78, 159), (78, 195), (79, 144), (81, 104), (81, 129), (81, 142), (81, 157), (81, 166), (82, 92), (82, 138), (82, 187), (83, 119), (83, 138), (83, 139), (83, 182), (84, 149), (84, 166), (84, 181), (84, 196), (85, 149), (85, 198), (86, 132), (86, 145), (86, 198), (87, 134), (88, 105), (88, 108), (88, 118), (88, 161), (88, 177), (89, 105), (89, 142), (90, 166), (90, 172), (91, 127), (92, 107), (92, 158), (93, 128), (93, 138), (93, 188), (93, 121), (94, 111), (94, 173), (95, 133), (96, 110), (97, 180), (98, 123), (98, 143), (98, 185), (99, 108), (100, 120), (103, 171), (103, 175), (104, 163), (105, 144), (105, 171), (105, 194), (106, 113), (109, 176), (110, 180), (112, 138), (113, 160), (113, 191), (114, 123), (114, 181), (116, 123), (116, 126), (117, 141), (118, 130), (118, 177), (119, 131), (119, 156), (119, 167), (120, 125), (120, 137), (120, 184), (120, 192), (122, 191), (123, 134), (124, 139), (126, 128), (126, 139), (126, 156), (126, 186), (127, 154), (128, 186), (129, 146), (129, 158), (129, 193), (130, 145), (130, 160), (130, 186), (132, 183), (132, 193), (133, 183), (133, 191), (133, 192), (134, 152), (134, 155), (137, 138), (137, 139), (137, 151), (137, 193), (138, 145), (138, 182), (138, 185), (139, 159), (141, 194), (142, 191), (142, 198), (144, 171), (145, 150), (146, 156), (146, 166), (150, 195), (151, 191), (153, 154), (154, 172), (154, 181), (154, 188), (155, 163), (155, 177), (157, 167), (157, 171), (157, 192), (158, 164), (159, 162), (160, 192), (161, 193), (163, 164), (163, 167), (165, 171), (165, 196), (166, 173), (166, 180), (167, 185), (171, 174), (171, 185), (171, 196), (172, 182), (174, 188), (174, 196), (175, 189), (176, 195), (177, 193), (177, 198), (181, 186), (184, 186), (184, 194), (189, 192), (194, 198)]\n",
            "Average Mileage: 11.718333333333174\n"
          ]
        }
      ]
    }
  ]
}