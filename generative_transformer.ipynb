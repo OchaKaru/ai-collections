{
  "cells": [
    {
      "cell_type": "markdown",
      "metadata": {
        "id": "OOadrJY8-S8J"
      },
      "source": [
        "<h1>The Shakespeare Training Data</h1>"
      ]
    },
    {
      "cell_type": "code",
      "execution_count": 1,
      "metadata": {
        "id": "7H1SLBL0AEN9"
      },
      "outputs": [],
      "source": [
        "import torch"
      ]
    },
    {
      "cell_type": "code",
      "execution_count": 2,
      "metadata": {
        "colab": {
          "base_uri": "https://localhost:8080/"
        },
        "id": "XXJVuCXkjKYU",
        "outputId": "9bbe85fc-2c61-4afd-ef96-5cdd8bb4e9ef"
      },
      "outputs": [
        {
          "output_type": "stream",
          "name": "stdout",
          "text": [
            "cuda\n"
          ]
        }
      ],
      "source": [
        "device = 'cuda' if torch.cuda.is_available() else 'cpu'\n",
        "print(device)"
      ]
    },
    {
      "cell_type": "code",
      "execution_count": 3,
      "metadata": {
        "colab": {
          "base_uri": "https://localhost:8080/"
        },
        "id": "CxqdF-DXFcOI",
        "outputId": "e3365165-fef1-48a6-c65e-19ced9e73ef7"
      },
      "outputs": [
        {
          "output_type": "stream",
          "name": "stdout",
          "text": [
            "--2023-06-05 02:50:40--  https://raw.githubusercontent.com/karpathy/char-rnn/master/data/tinyshakespeare/input.txt\n",
            "Resolving raw.githubusercontent.com (raw.githubusercontent.com)... 185.199.108.133, 185.199.109.133, 185.199.110.133, ...\n",
            "Connecting to raw.githubusercontent.com (raw.githubusercontent.com)|185.199.108.133|:443... connected.\n",
            "HTTP request sent, awaiting response... 200 OK\n",
            "Length: 1115394 (1.1M) [text/plain]\n",
            "Saving to: ‘input.txt.1’\n",
            "\n",
            "\rinput.txt.1           0%[                    ]       0  --.-KB/s               \rinput.txt.1         100%[===================>]   1.06M  --.-KB/s    in 0.006s  \n",
            "\n",
            "2023-06-05 02:50:40 (165 MB/s) - ‘input.txt.1’ saved [1115394/1115394]\n",
            "\n",
            "Looking in indexes: https://pypi.org/simple, https://us-python.pkg.dev/colab-wheels/public/simple/\n",
            "Requirement already satisfied: tiktoken in /usr/local/lib/python3.10/dist-packages (0.4.0)\n",
            "Requirement already satisfied: regex>=2022.1.18 in /usr/local/lib/python3.10/dist-packages (from tiktoken) (2022.10.31)\n",
            "Requirement already satisfied: requests>=2.26.0 in /usr/local/lib/python3.10/dist-packages (from tiktoken) (2.27.1)\n",
            "Requirement already satisfied: urllib3<1.27,>=1.21.1 in /usr/local/lib/python3.10/dist-packages (from requests>=2.26.0->tiktoken) (1.26.15)\n",
            "Requirement already satisfied: certifi>=2017.4.17 in /usr/local/lib/python3.10/dist-packages (from requests>=2.26.0->tiktoken) (2022.12.7)\n",
            "Requirement already satisfied: charset-normalizer~=2.0.0 in /usr/local/lib/python3.10/dist-packages (from requests>=2.26.0->tiktoken) (2.0.12)\n",
            "Requirement already satisfied: idna<4,>=2.5 in /usr/local/lib/python3.10/dist-packages (from requests>=2.26.0->tiktoken) (3.4)\n"
          ]
        }
      ],
      "source": [
        "!wget https://raw.githubusercontent.com/karpathy/char-rnn/master/data/tinyshakespeare/input.txt\n",
        "%pip install tiktoken"
      ]
    },
    {
      "cell_type": "markdown",
      "metadata": {
        "id": "D8T0aBGvXget"
      },
      "source": [
        "<h2>Char encode</h2>"
      ]
    },
    {
      "cell_type": "code",
      "execution_count": null,
      "metadata": {
        "colab": {
          "base_uri": "https://localhost:8080/"
        },
        "id": "HCFDklj99ErK",
        "outputId": "63d40b6a-8c81-4aa7-d076-883f2e5e15fb"
      },
      "outputs": [
        {
          "name": "stdout",
          "output_type": "stream",
          "text": [
            "\n",
            " !$&',-.3:;?ABCDEFGHIJKLMNOPQRSTUVWXYZabcdefghijklmnopqrstuvwxyz\n"
          ]
        }
      ],
      "source": [
        "input_file = open('input.txt', 'r', encoding = 'utf-8')\n",
        "text = input_file.read()\n",
        "\n",
        "chars = sorted(list(set(text)))\n",
        "vocab_size = len(chars)\n",
        "print(''.join(chars))\n",
        "# print(vocab_size)"
      ]
    },
    {
      "cell_type": "code",
      "execution_count": null,
      "metadata": {
        "id": "cp6xYJfnHLGc"
      },
      "outputs": [],
      "source": [
        "# Tokenization - Look into tokenization using words and like-words -> sentencepiece? tiktoken?\n",
        "# look up tables of characters for now :D\n",
        "stoi = { ch : i for i, ch in enumerate(chars) } # dictionary of string keys and int values using list comprehension\n",
        "itos = { i : ch for i, ch in enumerate(chars) }\n",
        "\n",
        "encode = lambda s: [stoi[c] for c in s]\n",
        "decode = lambda l: ''.join([itos[i] for i in l])\n",
        "\n",
        "# print(encode(\"hii there\"))\n",
        "# print(decode([46, 47, 47, 1, 58, 46, 43, 56, 43]))\n",
        "\n",
        "# data = torch.tensor(encode(\"hii there\"), dtype = torch.int64)\n",
        "# print(data.shape, data.dtype)"
      ]
    },
    {
      "cell_type": "markdown",
      "metadata": {
        "id": "nANf_jmkXdCR"
      },
      "source": [
        "<h2>Tiktoken</h2>"
      ]
    },
    {
      "cell_type": "code",
      "execution_count": 4,
      "metadata": {
        "colab": {
          "base_uri": "https://localhost:8080/"
        },
        "id": "cmoOqAsLMWr2",
        "outputId": "b50308b2-7caf-4cc6-a335-cbdfd274a0b1"
      },
      "outputs": [
        {
          "output_type": "stream",
          "name": "stdout",
          "text": [
            "100277\n"
          ]
        }
      ],
      "source": [
        "import tiktoken\n",
        "enc = tiktoken.encoding_for_model(\"gpt-4\")\n",
        "\n",
        "input_file = open('input.txt', 'r', encoding = 'utf-8')\n",
        "text = input_file.read()\n",
        "\n",
        "vocab_size = enc.n_vocab\n",
        "print(vocab_size)"
      ]
    },
    {
      "cell_type": "code",
      "execution_count": 5,
      "metadata": {
        "id": "AGquW5Qj-JSo"
      },
      "outputs": [],
      "source": [
        "def encode(s):\n",
        "  return enc.encode(s)\n",
        "\n",
        "def decode(l):\n",
        "  return enc.decode(l)"
      ]
    },
    {
      "cell_type": "markdown",
      "metadata": {
        "id": "GkDjHCXYXYZX"
      },
      "source": [
        "<h2>Train and Validation Separation</h2>"
      ]
    },
    {
      "cell_type": "code",
      "execution_count": 6,
      "metadata": {
        "id": "7oH0IksMRMv2"
      },
      "outputs": [],
      "source": [
        "data = torch.tensor(encode(text), dtype = torch.int64)\n",
        "print(data.shape)\n",
        "# print(data[:1000])\n",
        "\n",
        "n = int(.9 * len(data)) # witholding 90% of the data for training\n",
        "train_data = data[:n]\n",
        "val_data = data[n:] # 10% of the data becomes validation data\n",
        "\n",
        "# block_size = 8\n",
        "# print(train_data[:block_size + 1])\n",
        "\n",
        "# x = train_data[:block_size]\n",
        "# y = train_data[1 : block_size + 1]\n",
        "\n",
        "# for t in range(block_size):\n",
        "#   context = x[:t + 1]\n",
        "#   target = y[t]\n",
        "#   print(f\"When input is {context}: {target}\")"
      ]
    },
    {
      "cell_type": "code",
      "execution_count": 7,
      "metadata": {
        "id": "k4jZBAvmTOO0"
      },
      "outputs": [],
      "source": [
        "def get_batch(split):\n",
        "  #generate small bacth of data input x and target y\n",
        "  data = train_data if split == 'train' else val_data\n",
        "  ix = torch.randint(len(data) - block_size, (batch_size,)) # generates an array of random numbers with the shape (batch_size,) and max range len(data) - block_size\n",
        "\n",
        "  x = torch.stack([data[i : i + block_size] for i in ix])\n",
        "  y = torch.stack([data[i + 1 : i + block_size + 1] for i in ix])\n",
        "\n",
        "  x, y = x.to(device), y.to(device) # sending to the current device\n",
        "\n",
        "  return x, y\n",
        "\n",
        "# xb, yb = get_batch('train')\n",
        "# print('inputs:')\n",
        "# print(xb.shape, xb)\n",
        "# print('targets:')\n",
        "# print(yb.shape, yb)"
      ]
    },
    {
      "cell_type": "markdown",
      "metadata": {
        "id": "c_TKU4eB_gEE"
      },
      "source": [
        "<h1>The Bigram Model</h1>"
      ]
    },
    {
      "cell_type": "code",
      "execution_count": null,
      "metadata": {
        "id": "gi_Cmc63_83I"
      },
      "outputs": [],
      "source": [
        "import torch.nn as nn\n",
        "from torch.nn import functional"
      ]
    },
    {
      "cell_type": "code",
      "execution_count": null,
      "metadata": {
        "id": "C7NZ2Qt1Vr0Q"
      },
      "outputs": [],
      "source": [
        "class BigramLanguageModel(nn.Module):\n",
        "  def __init__(self):\n",
        "    super().__init__()\n",
        "    # each token directly reads off the logits for the next token from a lookup table\n",
        "    self.token_embedding_table = nn.Embedding(vocab_size, vocab_size)\n",
        "\n",
        "  def forward(self, idx, targets = None):\n",
        "    # idx and targets are both (B, T) tensor of integers\n",
        "    logits = self.token_embedding_table(idx) # (B, T, C)\n",
        "\n",
        "    if targets is None:\n",
        "      loss = None\n",
        "    else:\n",
        "      B, T, C = logits.shape\n",
        "      logits = logits.view(B * T, C)\n",
        "      targets = targets.view(B * T) # could also use -1 because pytorch will guess\n",
        "\n",
        "      loss = functional.cross_entropy(logits, targets)\n",
        "\n",
        "    return logits, loss\n",
        "\n",
        "  def generate(self, idx, max_new_tokens):\n",
        "    # idx is (B, T) array in the current context\n",
        "    for _ in range(max_new_tokens):\n",
        "      # predictions\n",
        "      logits, _ = self(idx)\n",
        "      # focus in on lost step\n",
        "      logits = logits[:,-1,:] # becomes (B, C)\n",
        "      # apply soft max to get probabilities\n",
        "      probs = functional.softmax(logits, dim = -1) # (B, C)\n",
        "      # sample\n",
        "      idx_next = torch.multinomial(probs, num_samples = 1) # (B, 1)\n",
        "      # append sampled index to the sequence\n",
        "      idx = torch.cat((idx, idx_next), dim = 1) # (B, T + 1)\n",
        "    return idx"
      ]
    },
    {
      "cell_type": "code",
      "execution_count": null,
      "metadata": {
        "id": "VL8oOHuTadSO"
      },
      "outputs": [],
      "source": [
        "# create the bigram model\n",
        "m = BigramLanguageModel().half()\n",
        "# logits, loss = m(xb, yb)\n",
        "# print(logits.shape)\n",
        "# print(loss)\n",
        "\n",
        "# idx = torch.zeros((1, 1), dtype = torch.int64)\n",
        "# print(decode(m.generate(idx, max_new_tokens = 100)[0].tolist()))\n",
        "\n",
        "# create an optimizer\n",
        "optimizer = torch.optim.AdamW(m.parameters(), lr = 1e-3)\n",
        "\n",
        "# training\n",
        "batch_size = 32\n",
        "\n",
        "for step in range(2000):\n",
        "  xb, yb = get_batch('train')\n",
        "\n",
        "  #evaluate the loss\n",
        "  logits, loss = m(xb, yb)\n",
        "  optimizer.zero_grad(set_to_none = True)\n",
        "  loss.backward()\n",
        "  optimizer.step()\n",
        "\n",
        "print(loss.item())"
      ]
    },
    {
      "cell_type": "code",
      "execution_count": null,
      "metadata": {
        "colab": {
          "base_uri": "https://localhost:8080/"
        },
        "id": "KDyqg3NhbfNJ",
        "outputId": "4ae522ee-683f-49da-bbd3-2b571e5c17d8"
      },
      "outputs": [
        {
          "name": "stdout",
          "output_type": "stream",
          "text": [
            "\n",
            "HESCENGe t thyshin n:\n",
            "Han,':\n",
            "Benhikshipobre ang!-Hetar wou\n",
            "Y ald, nge'd Dre wis s. wheloond!\n",
            "Wawhe, ousor h o GSSCUn m ANETo fend her O: Lowhearery therenthis; thontherithange tomour ht oouly mstalou u tou owidod\n",
            "\n",
            "I rde.\n",
            "Hon flde-cokea an ongiofothy, ptos:\n",
            "\n",
            "\n",
            "AMu ais veway ll t, the arshthise tse avewror that.\n",
            "RWALIICEROMan w d clanger, y gaceth.\n",
            "\n",
            "BEEThofrsayiorghe bltoqu s th I t\n",
            "Yould t ls imping, heg co wo hiveariend ve,\n",
            "Whee hatoe assteo Yooloveand itingrouclll tosstheoms'ly bofantryous be w;\n"
          ]
        }
      ],
      "source": [
        "print(decode(m.generate(torch.zeros((1, 1), dtype = torch.int64), max_new_tokens = 500)[0].tolist()))"
      ]
    },
    {
      "cell_type": "markdown",
      "metadata": {
        "id": "gWAkdJC1-GJR"
      },
      "source": [
        "<h1>Example of Bag of Words<h1>"
      ]
    },
    {
      "cell_type": "code",
      "execution_count": null,
      "metadata": {
        "id": "oSFF2uz481No"
      },
      "outputs": [],
      "source": [
        "# consider the example\n",
        "torch.manual_seed(1337)\n",
        "B, T, C = 4, 8, 2\n",
        "x = torch.randn(B, T, C)\n",
        "\n",
        "# we want x[b, t] = mean_{i <= t} x[b, i]\n",
        "xbow = torch.zeros((B, T, C)) # bow is bag of words, we're already familiar with this concept\n",
        "for b in range(B):\n",
        "  for t in range(T):\n",
        "    xprev = x[b, :t + 1] # (t, C)\n",
        "    xbow[b, t] = torch.mean(xprev, 0)\n",
        "\n",
        "# this is very inefficient"
      ]
    },
    {
      "cell_type": "code",
      "execution_count": null,
      "metadata": {
        "id": "CPPJlRsvArry"
      },
      "outputs": [],
      "source": [
        "# we could use some linear algebra :( it always comes back\n",
        "weight = torch.tril(torch.ones(T, T)) # this will make a lower triagular matix of ones\n",
        "weight = weight / torch.sum(weight, 1, keepdim = True) # we can now add up the row (that is what the one is for) and keep the dimension of the matrix and do a element by element division\n",
        "\n",
        "# @ is matrix multiplication\n",
        "xbow2 = weight @ x # (B, T, T) @ (B, T, C) -> (B, T, C)"
      ]
    },
    {
      "cell_type": "code",
      "execution_count": null,
      "metadata": {
        "id": "kF_IdidaDALC"
      },
      "outputs": [],
      "source": [
        "# we want to use softmax in order to count for affinities later on\n",
        "tril = torch.tril(torch.ones(T, T))\n",
        "weight = torch.zeros((T, T))\n",
        "weight = weight.masked_fill(tril == 0, float('-inf'))\n",
        "weight = functional.softmax(weight, dim = -1)\n",
        "xbow3 = weight @ x"
      ]
    },
    {
      "cell_type": "markdown",
      "metadata": {
        "id": "NOx-7eiBf2Rm"
      },
      "source": [
        "<h1>Batch Normilization Example<h1>"
      ]
    },
    {
      "cell_type": "code",
      "execution_count": null,
      "metadata": {
        "id": "tbHC8OrCZLkX"
      },
      "outputs": [],
      "source": [
        "class BatchNorm:\n",
        "  def __init__(self, dim, eps = 1e-5, momentum = .1):\n",
        "    self.eps = eps\n",
        "    self.momentum = momentum # for batch norm\n",
        "    self.training = True # for batch norm\n",
        "    # parameters (trained during backprop)\n",
        "    self.gamma = torch.ones(dim)\n",
        "    self.beta = torch.zeros(dim)\n",
        "    # buffers (trained running momemntum update)\n",
        "    self.running_mean = torch.zeros(dim) # for batch norm\n",
        "    self.running_var = torch.ones(dim) # for batch norm\n",
        "\n",
        "  # batch norm call\n",
        "  def __call__(self, x):\n",
        "    if self.training:\n",
        "      xmean = x.mean(0, keepdim = True) # batch mean\n",
        "      xvar = x.var(0, keepdim = True) # batch variance\n",
        "    else:\n",
        "      xmean = self.running_mean\n",
        "      xvar = self.running_var\n",
        "\n",
        "    xhat = (x - xmean) / torch.sqrt(xvar + self.eps) # normalize to unit variance\n",
        "    self.out = self.gamma * xhat + self.beta\n",
        "\n",
        "    # update buffers\n",
        "    if self.training:\n",
        "      with torch.no_grad():\n",
        "        self.running_mean = (1 - self.momentum) * self.running_mean + self.momentum * xmean\n",
        "        self.running_var = (1 - self.momentum) * self.running_var + self.momentum * xvar\n",
        "\n",
        "    return self.out\n",
        "\n",
        "  def parameters(self):\n",
        "    return [self.gamma, self.beta]"
      ]
    },
    {
      "cell_type": "markdown",
      "metadata": {
        "id": "aLCrj2SGIfzI"
      },
      "source": [
        "<h1>Self-Attention Example</h1>\n",
        "\n",
        "- Attention is a **communication mechanism**. Essentially nodes in a directed graph and aggregate their information in a sum: data dependent.\n",
        "- There is no notion of space. We need to add it.\n",
        "- The batches never \"talk to each other\"\n",
        "- The attention block will never communivate forward, but we could add that in for something like \"sentiment analysis\"\n",
        "  - encoder vs decoder blocks essentially\n",
        "- \"self-attention\" all come from the same location, but if there are \"cross-attention\" allows for a separate set of nodes we want context from\n",
        "- \"scaled\" attention also divides by 1/sqrt(head_size) which essentially subdues the variance so that softmax will be less extreme at initialization"
      ]
    },
    {
      "cell_type": "code",
      "execution_count": null,
      "metadata": {
        "id": "5riZ2760IfbD"
      },
      "outputs": [],
      "source": [
        "torch.manual_seed(1337)\n",
        "B, T, C = 4, 8, 32\n",
        "x = torch.randn(B, T, C)\n",
        "\n",
        "# single head of self attention\n",
        "head_size = 16\n",
        "key = nn.Linear(C, head_size, bias = False)\n",
        "query = nn.Linear(C, head_size, bias = False)\n",
        "value = nn.Linear(C, head_size, bias = False)\n",
        "k = key(x) # (B, T, head_size)\n",
        "q = query(x) # (B, T, head_size)\n",
        "\n",
        "weight = q @ k.transpose(-2, -1) * head_size**-.5 # (B, T, head_size) @ (B, head_size, T) -> (B, T, T)\n",
        "\n",
        "tril = torch.tril(torch.ones(T, T))\n",
        "weight = torch.zeros((T, T))\n",
        "weight = weight.masked_fill(tril == 0, float('-inf'))\n",
        "weight = functional.softmax(weight, dim = -1)\n",
        "\n",
        "# normally out = weight @ x but we want x to be \"private\" to each head\n",
        "\n",
        "v = value(x)\n",
        "out = weight @ v"
      ]
    },
    {
      "cell_type": "markdown",
      "metadata": {
        "id": "QdAj0Pv8kmSD"
      },
      "source": [
        "<h1>GPT Model<h1>"
      ]
    },
    {
      "cell_type": "code",
      "execution_count": 8,
      "metadata": {
        "id": "L06wep_tgoyz"
      },
      "outputs": [],
      "source": [
        "batch_size = 64 # how many parallel sequences\n",
        "block_size = 512 # maximum context\n",
        "max_iterations = 500\n",
        "eval_interval = 1000\n",
        "learning_rate = 3e-4\n",
        "eval_iterations = 1000\n",
        "n_embed = 384 # number of embeddings\n",
        "n_layers = 6\n",
        "n_head = 6\n",
        "dropout = 0.4"
      ]
    },
    {
      "cell_type": "code",
      "execution_count": 9,
      "metadata": {
        "id": "7R-VC_NDXqef"
      },
      "outputs": [],
      "source": [
        "import torch.nn as nn\n",
        "from torch.nn import functional"
      ]
    },
    {
      "cell_type": "markdown",
      "metadata": {
        "id": "jmGGfOKwMm_I"
      },
      "source": [
        "<h2>Not memory efficient</h2>"
      ]
    },
    {
      "cell_type": "code",
      "execution_count": null,
      "metadata": {
        "id": "GQZ35JFvNWes"
      },
      "outputs": [],
      "source": [
        "class Head(nn.Module):\n",
        "  # one head of self attention\n",
        "  def __init__(self, head_size):\n",
        "    super().__init__()\n",
        "    self.key = nn.Linear(n_embed, head_size, bias = False)\n",
        "    self.query = nn.Linear(n_embed, head_size, bias = False)\n",
        "    self.value = nn.Linear(n_embed, head_size, bias = False)\n",
        "    self.register_buffer('tril', torch.tril(torch.ones(block_size, block_size)))\n",
        "    self.dropout = nn.Dropout(dropout) # adding drop out to prevent overfitting\n",
        "\n",
        "  def forward(self, x):\n",
        "    B, T, C = x.shape\n",
        "    k = self.key(x)\n",
        "    q = self.query(x)\n",
        "    # compute attention scores\n",
        "    weight = q @ k.transpose(-2, -1) * C**-.5 # (B, T, head_size) @ (B, head_size, T) -> (B, T, T)\n",
        "    weight = weight.masked_fill(self.tril[:T][:T] == 0, float('-inf')) # (B, T, T)\n",
        "    weight = functional.softmax(weight, dim = -1)\n",
        "    weight = self.dropout(weight)\n",
        "    # perform the weighted aggregation\n",
        "    v = self.value(x) # (B, T, C)\n",
        "    out = weight @ v # (B, T, T) @ (B, T, C) -> (B, T, C)\n",
        "\n",
        "    return out"
      ]
    },
    {
      "cell_type": "code",
      "execution_count": null,
      "metadata": {
        "id": "GsZddIEFSX3T"
      },
      "outputs": [],
      "source": [
        "class MultiHead(nn.Module):\n",
        "  # the hydra of self attention\n",
        "  def __init__(self, num_heads, head_size):\n",
        "    super().__init__()\n",
        "    self.heads = nn.ModuleList([Head(head_size) for _ in range(num_heads)])\n",
        "    self.proj = nn.Linear(n_embed, n_embed) # we need projection layers to finalize the projection onto the residual pathway\n",
        "    self.dropout = nn.Dropout(dropout) # adding drop out to prevent overfitting\n",
        "\n",
        "  def forward(self, x):\n",
        "    out = torch.cat([h(x) for h in self.heads], dim = - 1)\n",
        "    out = self.dropout(self.proj(out))\n",
        "    return out"
      ]
    },
    {
      "cell_type": "code",
      "execution_count": null,
      "metadata": {
        "id": "T1LHBXP-UKaa"
      },
      "outputs": [],
      "source": [
        "class FeedForward(nn.Module):\n",
        "  # simple linear layer\n",
        "  def __init__(self, n_embed):\n",
        "    super().__init__()\n",
        "    self.net = nn.Sequential(\n",
        "        nn.Linear(n_embed, 4 * n_embed), # adding more computation by multiplying by 4\n",
        "        nn.ReLU(),\n",
        "    )\n",
        "    self.proj = nn.Linear(4 * n_embed, n_embed) # we need projection layers to finalize the projection onto the residual pathway\n",
        "    self.dropout = nn.Dropout(dropout) # adding drop out to prevent overfitting\n",
        "\n",
        "  def forward(self, x):\n",
        "    out = self.net(x)\n",
        "    out = self.dropout(self.proj(out))\n",
        "    return out"
      ]
    },
    {
      "cell_type": "code",
      "execution_count": null,
      "metadata": {
        "id": "eYTIPXWUVPlV"
      },
      "outputs": [],
      "source": [
        "class Block(nn.Module):\n",
        "  def __init__(self, n_embed, n_head):\n",
        "    super().__init__()\n",
        "    head_size = n_embed // n_head # we want the concat to equal what one head would've looked like so we need to divide it up\n",
        "    self.sa = MultiHead(n_head, head_size) # self attention head list\n",
        "    self.ffwd = FeedForward(n_embed)\n",
        "    self.ln1 = nn.LayerNorm(n_embed)\n",
        "    self.ln2 = nn.LayerNorm(n_embed)\n",
        "\n",
        "  def forward(self, x):\n",
        "    # we want to add x to itself to apply some residual pathway which will make the blocks \"slowly come online\"\n",
        "    x = x + self.sa(self.ln1(x)) # apply self attention (B, T, C)\n",
        "    x = x + self.ffwd(self.ln2(x)) # (B, T, C)\n",
        "    return x"
      ]
    },
    {
      "cell_type": "code",
      "execution_count": null,
      "metadata": {
        "id": "Opn7xE7tPLdV"
      },
      "outputs": [],
      "source": [
        "class GPTModel(nn.Module):\n",
        "  def __init__(self):\n",
        "    super().__init__()\n",
        "    # each token directly reads off the logits for the next token from a lookup table\n",
        "    self.token_embedding_table = nn.Embedding(vocab_size, n_embed)\n",
        "    self.position_embedding_table = nn.Embedding(block_size, n_embed) # positional embedding to add the spatial feature to attention\n",
        "    self.blocks = nn.Sequential(*[Block(n_embed, n_head = n_head) for _ in range(n_layers)]) # asterisk here unpacks the list\n",
        "    self.lnf = nn.LayerNorm(n_embed) # final layer norm\n",
        "    self.lm_head = nn.Linear(n_embed, vocab_size) # language model head\n",
        "\n",
        "  def forward(self, idx, targets = None):\n",
        "    B, T = idx.shape\n",
        "    # idx and targets are both (B, T) tensor of integers\n",
        "    token_embeddings = self.token_embedding_table(idx) # (B, T, C)\n",
        "    position_embeddings = self.position_embedding_table(torch.arange(T, device = device)) # (T, C)\n",
        "    x = token_embeddings + position_embeddings # (B, T, C)\n",
        "    x = self.lnf(self.blocks(x)) # apply alternating self attention and computation (B, T, C) then layer norm\n",
        "    logits = self.lm_head(x) # (B, T, vocab_size)\n",
        "\n",
        "    if targets is None:\n",
        "      loss = None\n",
        "    else:\n",
        "      B, T, C = logits.shape\n",
        "      logits = logits.view(B * T, C)\n",
        "      targets = targets.view(B * T) # could also use -1 because pytorch will guess\n",
        "\n",
        "      loss = functional.cross_entropy(logits, targets)\n",
        "\n",
        "    return logits, loss\n",
        "\n",
        "  def generate(self, idx, max_new_tokens):\n",
        "    # idx is (B, T) array in the current context\n",
        "    for _ in range(max_new_tokens):\n",
        "      # crop context\n",
        "      idx_cond = idx[:, -block_size:]\n",
        "      # predictions\n",
        "      logits, _ = self(idx_cond)\n",
        "      # focus in on lost step\n",
        "      logits = logits[:,-1,:] # becomes (B, C)\n",
        "      # apply soft max to get probabilities\n",
        "      probs = functional.softmax(logits, dim = -1) # (B, C)\n",
        "      # sample\n",
        "      idx_next = torch.multinomial(probs, num_samples = 1) # (B, 1)\n",
        "      # append sampled index to the sequence\n",
        "      idx = torch.cat((idx, idx_next), dim = 1) # (B, T + 1)\n",
        "    return idx"
      ]
    },
    {
      "cell_type": "code",
      "execution_count": null,
      "metadata": {
        "id": "eBh_8k8RQynN"
      },
      "outputs": [],
      "source": [
        "# create the bigram model\n",
        "m = GPTModel()\n",
        "m = m.to(device) # sending the model to the device\n",
        "# logits, loss = m(xb, yb)\n",
        "# print(logits.shape)\n",
        "# print(loss)\n",
        "\n",
        "# idx = torch.zeros((1, 1), dtype = torch.int64)\n",
        "# print(decode(m.generate(idx, max_new_tokens = 100)[0].tolist()))"
      ]
    },
    {
      "cell_type": "code",
      "execution_count": null,
      "metadata": {
        "id": "zVSmYs6OMetp"
      },
      "outputs": [],
      "source": [
        "# create an optimizer\n",
        "optimizer = torch.optim.AdamW(m.parameters(), lr = learning_rate)\n",
        "for step in range(max_iterations):\n",
        "  xb, yb = get_batch('train')\n",
        "\n",
        "  #evaluate the loss\n",
        "  _, train_loss = m(xb, yb)\n",
        "  optimizer.zero_grad(set_to_none = True)\n",
        "  train_loss.backward()\n",
        "  optimizer.step()\n",
        "\n",
        "  if step % eval_interval == 0:\n",
        "    for eval in range(eval_iterations):\n",
        "      xb, yb = get_batch('val')\n",
        "      _, eval_loss = m(xb, yb)\n",
        "\n",
        "    print(f\"Step {step}: training loss = {train_loss.detach()}, evaluation loss {eval_loss.detach()}\")"
      ]
    },
    {
      "cell_type": "markdown",
      "metadata": {
        "id": "sHlm5OfTMvhK"
      },
      "source": [
        "<h2>Memory Efficient</h2>"
      ]
    },
    {
      "cell_type": "code",
      "execution_count": 10,
      "metadata": {
        "id": "K3-0Dux0WWPV"
      },
      "outputs": [],
      "source": [
        "from torch import autocast"
      ]
    },
    {
      "cell_type": "code",
      "execution_count": 11,
      "metadata": {
        "id": "xXxQyRl3RSUS"
      },
      "outputs": [],
      "source": [
        "class CastedHead(nn.Module):\n",
        "  # one head of self attention\n",
        "  def __init__(self, head_size):\n",
        "    super().__init__()\n",
        "    self.key = nn.Linear(n_embed, head_size, bias = False)\n",
        "    self.query = nn.Linear(n_embed, head_size, bias = False)\n",
        "    self.value = nn.Linear(n_embed, head_size, bias = False)\n",
        "    self.register_buffer('tril', torch.tril(torch.ones(block_size, block_size)))\n",
        "    self.dropout = nn.Dropout(dropout) # adding drop out to prevent overfitting\n",
        "\n",
        "  def forward(self, x):\n",
        "    B, T, C = x.shape\n",
        "    k = self.key(x)\n",
        "    q = self.query(x)\n",
        "    # compute attention scores\n",
        "    weight = q @ k.transpose(-2, -1) * C**-.5 # (B, T, head_size) @ (B, head_size, T) -> (B, T, T)\n",
        "    weight = weight.masked_fill(self.tril[:T][:T] == 0, float('-inf')) # (B, T, T)\n",
        "    with autocast(device):\n",
        "      weight = functional.softmax(weight, dim = -1)\n",
        "      weight = self.dropout(weight)\n",
        "      # perform the weighted aggregation\n",
        "      v = self.value(x) # (B, T, C)\n",
        "      out = weight @ v # (B, T, T) @ (B, T, C) -> (B, T, C)\n",
        "\n",
        "    return out"
      ]
    },
    {
      "cell_type": "code",
      "execution_count": 12,
      "metadata": {
        "id": "CVgSu72jRxiB"
      },
      "outputs": [],
      "source": [
        "class CastedMultiHead(nn.Module):\n",
        "  # the hydra of self attention\n",
        "  def __init__(self, num_heads, head_size):\n",
        "    super().__init__()\n",
        "    self.heads = nn.ModuleList([CastedHead(head_size) for _ in range(num_heads)])\n",
        "    self.proj = nn.Linear(n_embed, n_embed) # we need projection layers to finalize the projection onto the residual pathway\n",
        "    self.dropout = nn.Dropout(dropout) # adding drop out to prevent overfitting\n",
        "\n",
        "  def forward(self, x):\n",
        "    out = torch.cat([h(x) for h in self.heads], dim = - 1)\n",
        "    out = self.dropout(self.proj(out))\n",
        "    return out"
      ]
    },
    {
      "cell_type": "code",
      "execution_count": 13,
      "metadata": {
        "id": "e4xS6b5DOFgm"
      },
      "outputs": [],
      "source": [
        "from torch.utils.checkpoint import checkpoint\n",
        "class CheckPointed(nn.Sequential): # using checkpointed backprop for memory efficiency\n",
        "  def forward(self, *args):\n",
        "    return checkpoint(super().forward, *args)"
      ]
    },
    {
      "cell_type": "code",
      "execution_count": 14,
      "metadata": {
        "id": "Ln-OUM3QNz0k"
      },
      "outputs": [],
      "source": [
        "class CheckPointedFeedForward(nn.Module):\n",
        "  # simple linear layer\n",
        "  def __init__(self, n_embed):\n",
        "    super().__init__()\n",
        "    self.net = CheckPointed(\n",
        "      nn.Linear(n_embed, 4 * n_embed), # adding more computation by multiplying by 4\n",
        "      nn.ReLU(),\n",
        "      nn.Linear(4 * n_embed, n_embed), # we need projection layers to finalize the projection onto the residual pathway\n",
        "      nn.Dropout(dropout), # adding drop out to prevent overfitting\n",
        "    )\n",
        "\n",
        "  def forward(self, x):\n",
        "    out = self.net(x)\n",
        "    return out"
      ]
    },
    {
      "cell_type": "code",
      "execution_count": 15,
      "metadata": {
        "id": "wLypYiPgO1fE"
      },
      "outputs": [],
      "source": [
        "class CastedCheckPointedBlock(nn.Module):\n",
        "  def __init__(self, n_embed, n_head):\n",
        "    super().__init__()\n",
        "    head_size = n_embed // n_head # we want the concat to equal what one head would've looked like so we need to divide it up\n",
        "    self.sa = CastedMultiHead(n_head, head_size) # self attention head list\n",
        "    self.ffwd = CheckPointedFeedForward(n_embed)\n",
        "    self.ln1 = nn.LayerNorm(n_embed)\n",
        "    self.ln2 = nn.LayerNorm(n_embed)\n",
        "\n",
        "  def forward(self, x):\n",
        "    # we want to add x to itself to apply some residual pathway which will make the blocks \"slowly come online\"\n",
        "    x = x + self.sa(self.ln1(x)) # apply self attention (B, T, C)\n",
        "    x = x + self.ffwd(self.ln2(x)) # (B, T, C)\n",
        "    return x"
      ]
    },
    {
      "cell_type": "code",
      "execution_count": 16,
      "metadata": {
        "id": "yEcY5gFROeOs"
      },
      "outputs": [],
      "source": [
        "class CastedCheckPointedGPTModel(nn.Module):\n",
        "  def __init__(self):\n",
        "    super().__init__()\n",
        "    # each token directly reads off the logits for the next token from a lookup table\n",
        "    self.token_embedding_table = nn.Embedding(vocab_size, n_embed)\n",
        "    self.position_embedding_table = nn.Embedding(block_size, n_embed) # positional embedding to add the spatial feature to attention\n",
        "    self.blocks = CheckPointed(*[CastedCheckPointedBlock(n_embed, n_head = n_head) for _ in range(n_layers)]) # asterisk here unpacks the list\n",
        "    self.lnf = nn.LayerNorm(n_embed) # final layer norm\n",
        "    self.lm_head = nn.Linear(n_embed, vocab_size) # language model head\n",
        "\n",
        "  def forward(self, idx, targets = None):\n",
        "    B, T = idx.shape\n",
        "    # idx and targets are both (B, T) tensor of integers\n",
        "    token_embeddings = self.token_embedding_table(idx) # (B, T, C)\n",
        "    position_embeddings = self.position_embedding_table(torch.arange(T, device = device)) # (T, C)\n",
        "    x = token_embeddings + position_embeddings # (B, T, C)\n",
        "    x = self.lnf(self.blocks(x)) # apply alternating self attention and computation (B, T, C) then layer norm\n",
        "    logits = self.lm_head(x) # (B, T, vocab_size)\n",
        "\n",
        "    if targets is None:\n",
        "      loss = None\n",
        "    else:\n",
        "      B, T, C = logits.shape\n",
        "      logits = logits.view(B * T, C)\n",
        "      targets = targets.view(B * T) # could also use -1 because pytorch will guess\n",
        "\n",
        "      loss = functional.cross_entropy(logits, targets)\n",
        "\n",
        "    return logits, loss\n",
        "\n",
        "  def generate(self, idx, max_new_tokens):\n",
        "    # idx is (B, T) array in the current context\n",
        "    for _ in range(max_new_tokens):\n",
        "      # crop context\n",
        "      idx_cond = idx[:, -block_size:]\n",
        "      # predictions\n",
        "      logits, _ = self(idx_cond)\n",
        "      # focus in on lost step\n",
        "      logits = logits[:,-1,:] # becomes (B, C)\n",
        "      # apply soft max to get probabilities\n",
        "      with autocast(device):\n",
        "        probs = functional.softmax(logits, dim = -1) # (B, C)\n",
        "      # sample\n",
        "      idx_next = torch.multinomial(probs, num_samples = 1) # (B, 1)\n",
        "      # append sampled index to the sequence\n",
        "      idx = torch.cat((idx, idx_next), dim = 1) # (B, T + 1)\n",
        "    return idx"
      ]
    },
    {
      "cell_type": "code",
      "execution_count": 17,
      "metadata": {
        "id": "0LE0VyeZMzhp"
      },
      "outputs": [],
      "source": [
        "# create the bigram model\n",
        "m = CastedCheckPointedGPTModel().half()\n",
        "m = m.to(device) # sending the model to the device\n",
        "# logits, loss = m(xb, yb)\n",
        "# print(logits.shape)\n",
        "# print(loss)\n",
        "\n",
        "# idx = torch.zeros((1, 1), dtype = torch.int64)\n",
        "# print(decode(m.generate(idx, max_new_tokens = 100)[0].tolist()))"
      ]
    },
    {
      "cell_type": "code",
      "execution_count": 18,
      "metadata": {
        "id": "GmeVRJu7M6Bv"
      },
      "outputs": [],
      "source": [
        "batch_acc = batch_size\n",
        "batch_size = 16\n",
        "accumulation_step = int(batch_acc / batch_size)"
      ]
    },
    {
      "cell_type": "code",
      "execution_count": 19,
      "metadata": {
        "colab": {
          "base_uri": "https://localhost:8080/"
        },
        "id": "xA55d-SOSJbe",
        "outputId": "68dc2e57-c7da-43c1-aa1e-692f6359bc2e"
      },
      "outputs": [
        {
          "output_type": "stream",
          "name": "stdout",
          "text": [
            "Looking in indexes: https://pypi.org/simple, https://us-python.pkg.dev/colab-wheels/public/simple/\n",
            "Requirement already satisfied: bitsandbytes==0.35.0 in /usr/local/lib/python3.10/dist-packages (0.35.0)\n",
            "\n",
            "===================================BUG REPORT===================================\n",
            "Welcome to bitsandbytes. For bug reports, please submit your error trace to: https://github.com/TimDettmers/bitsandbytes/issues\n",
            "For effortless bug reporting copy-paste your error into this form: https://docs.google.com/forms/d/e/1FAIpQLScPB8emS3Thkp66nvqwmjTEgxp8Y9ufuWTzFyr9kJ5AoI47dQ/viewform?usp=sf_link\n",
            "================================================================================\n",
            "CUDA_SETUP: WARNING! libcudart.so not found in any environmental path. Searching /usr/local/cuda/lib64...\n",
            "CUDA SETUP: CUDA runtime path found: /usr/local/cuda/lib64/libcudart.so\n",
            "CUDA SETUP: Highest compute capability among GPUs detected: 7.5\n",
            "CUDA SETUP: Detected CUDA version 118\n",
            "CUDA SETUP: Loading binary /usr/local/lib/python3.10/dist-packages/bitsandbytes/libbitsandbytes_cuda118.so...\n"
          ]
        },
        {
          "output_type": "stream",
          "name": "stderr",
          "text": [
            "/usr/local/lib/python3.10/dist-packages/bitsandbytes/cuda_setup/paths.py:105: UserWarning: /usr/lib64-nvidia did not contain libcudart.so as expected! Searching further paths...\n",
            "  warn(\n",
            "/usr/local/lib/python3.10/dist-packages/bitsandbytes/cuda_setup/paths.py:27: UserWarning: WARNING: The following directories listed in your path were found to be non-existent: {PosixPath('/sys/fs/cgroup/memory.events /var/colab/cgroup/jupyter-children/memory.events')}\n",
            "  warn(\n",
            "/usr/local/lib/python3.10/dist-packages/bitsandbytes/cuda_setup/paths.py:27: UserWarning: WARNING: The following directories listed in your path were found to be non-existent: {PosixPath('http'), PosixPath('8013'), PosixPath('//172.28.0.1')}\n",
            "  warn(\n",
            "/usr/local/lib/python3.10/dist-packages/bitsandbytes/cuda_setup/paths.py:27: UserWarning: WARNING: The following directories listed in your path were found to be non-existent: {PosixPath('//colab.research.google.com/tun/m/cc48301118ce562b961b3c22d803539adc1e0c19/gpu-t4-s-1t7tltk19u9ik --tunnel_background_save_delay=10s --tunnel_periodic_background_save_frequency=30m0s --enable_output_coalescing=true --output_coalescing_required=true'), PosixPath('--logtostderr --listen_host=172.28.0.12 --target_host=172.28.0.12 --tunnel_background_save_url=https')}\n",
            "  warn(\n",
            "/usr/local/lib/python3.10/dist-packages/bitsandbytes/cuda_setup/paths.py:27: UserWarning: WARNING: The following directories listed in your path were found to be non-existent: {PosixPath('/env/python')}\n",
            "  warn(\n",
            "/usr/local/lib/python3.10/dist-packages/bitsandbytes/cuda_setup/paths.py:27: UserWarning: WARNING: The following directories listed in your path were found to be non-existent: {PosixPath('module'), PosixPath('//ipykernel.pylab.backend_inline')}\n",
            "  warn(\n"
          ]
        }
      ],
      "source": [
        "%pip install bitsandbytes==0.35.0 # using bitsandbytes 0.35.0 because there is a bug with 0.36.0 where values become NAN\n",
        "import bitsandbytes as bnb\n",
        "\n",
        "# create a memory efficient optimizer\n",
        "optimizer = bnb.optim.AdamW8bit(m.parameters(), lr = learning_rate)"
      ]
    },
    {
      "cell_type": "code",
      "source": [
        "train_losses = []\n",
        "eval_losses = []"
      ],
      "metadata": {
        "id": "H4w_sAxNERPR"
      },
      "execution_count": 20,
      "outputs": []
    },
    {
      "cell_type": "code",
      "execution_count": 21,
      "metadata": {
        "colab": {
          "base_uri": "https://localhost:8080/"
        },
        "id": "uxqiJfwxMy-T",
        "outputId": "3a848079-ca3c-4e73-f465-c83593f32131"
      },
      "outputs": [
        {
          "output_type": "stream",
          "name": "stderr",
          "text": [
            "/usr/local/lib/python3.10/dist-packages/torch/utils/checkpoint.py:31: UserWarning: None of the inputs have requires_grad=True. Gradients will be None\n",
            "  warnings.warn(\"None of the inputs have requires_grad=True. Gradients will be None\")\n"
          ]
        }
      ],
      "source": [
        "for step in range(max_iterations * accumulation_step):\n",
        "  xb, yb = get_batch('train')\n",
        "\n",
        "  #evaluate the loss\n",
        "  _, train_loss = m(xb, yb)\n",
        "  train_loss.backward()\n",
        "  train_losses.append(train_loss.item())\n",
        "  \n",
        "  if step % accumulation_step == accumulation_step - 1:\n",
        "    optimizer.step()\n",
        "    optimizer.zero_grad(set_to_none = True)\n",
        "\n",
        "  if step % eval_interval == eval_interval - 1:\n",
        "    for eval in range(eval_iterations):\n",
        "      xb, yb = get_batch('val')\n",
        "      _, eval_loss = m(xb, yb)\n",
        "      eval_losses.append(eval_loss.item())"
      ]
    },
    {
      "cell_type": "code",
      "execution_count": 23,
      "metadata": {
        "id": "9DMmGCHUmSR_",
        "colab": {
          "base_uri": "https://localhost:8080/",
          "height": 881
        },
        "outputId": "d107b91e-2670-4ad6-ad90-b00c4aa3f764"
      },
      "outputs": [
        {
          "output_type": "display_data",
          "data": {
            "text/plain": [
              "<Figure size 640x480 with 1 Axes>"
            ],
            "image/png": "[encoded data removed]"
          },
          "metadata": {}
        },
        {
          "output_type": "display_data",
          "data": {
            "text/plain": [
              "<Figure size 640x480 with 1 Axes>"
            ],
            "image/png": "[encoded data removed]"
          },
          "metadata": {}
        }
      ],
      "source": [
        "import matplotlib.pyplot as plt\n",
        "\n",
        "plt.xlabel(\"Iterations\")\n",
        "plt.ylabel(\"Train Loss\")\n",
        "plt.plot([loss for loss in train_losses])\n",
        "plt.show()\n",
        "\n",
        "plt.xlabel(\"Iterations\")\n",
        "plt.ylabel(\"Eval Loss\")\n",
        "plt.plot([loss for loss in eval_losses])\n",
        "plt.show()"
      ]
    },
    {
      "cell_type": "code",
      "execution_count": 24,
      "metadata": {
        "id": "nlpmoE_0ealY",
        "colab": {
          "base_uri": "https://localhost:8080/"
        },
        "outputId": "9cb7e4a5-caae-4959-daa6-8d2c7166d0d3"
      },
      "outputs": [
        {
          "output_type": "stream",
          "name": "stderr",
          "text": [
            "/usr/local/lib/python3.10/dist-packages/torch/utils/checkpoint.py:31: UserWarning: None of the inputs have requires_grad=True. Gradients will be None\n",
            "  warnings.warn(\"None of the inputs have requires_grad=True. Gradients will be None\")\n"
          ]
        },
        {
          "output_type": "stream",
          "name": "stdout",
          "text": [
            "!!!!!!!!!!!!!!!!!!!!!!!!!!!!!!!!!!!!!!!!!!!!!!!!!!!!!!!!!!!!!!!!!!!!!!!!!!!!!!!!!!!!!!!!!!!!!!!!!!!!!!!!!!!!!!!!!!!!!!!!!!!!!!!!!!!!!!!!!!!!!!!!!!!!!!!!!!!!!!!!!!!!!!!!!!!!!!!!!!!!!!!!!!!!!!!!!!!!!!!!!!!!!!!!!!!!!!!!!!!!!!!!!!!!!!!!!!!!!!!!!!!!!!!!!!!!!!!!!!!!!!!!!!!!!!!!!!!!!!!!!!!!!!!!!!!!!!!!!!!!!!!!!!!!!!!!!!!!!!!!!!!!!!!!!!!!!!!!!!!!!!!!!!!!!!!!!!!!!!!!!!!!!!!!!!!!!!!!!!!!!!!!!!!!!!!!!!!!!!!!!!!!!!!!!!!!!!!!!!!!!!!!!!!!!!!!!!!!!!!!!!!!!!!!!!!!!!!!!!!!!!!!!!!!!!!!!!!!!!!!!!!!!!!!!!!!!!!!!!!!!!!!!!!!!!!!esOM triumph.\n",
            "\n",
            " bandsello is heirsing pretty\n",
            "RI conj own pur your of noble'd hire weakness brief! yielding praisesiled\n",
            " breathe; this powers comes,\n",
            " here, envell to laws this it it\n",
            "I allowAN gardenou and be so.\n",
            "\n",
            "Kif?\n",
            "\n",
            "ertved.\n",
            "\n",
            " guilt re answer deceived at shaltign forth,ureds. fight, this be answer her do wrongifyupt victory ent\n",
            "afishment as fares rev imp cold,uc bur spent.\n",
            "\n",
            "R straight.\n",
            "ent\n",
            "unt at devotion,'re character, were noseORD:\n",
            "at follow'llick The slander rage me worthy himself.\n",
            "To do hardly- time:\n",
            " Whatker lack rebellion is reach.\n",
            "\n",
            " cheek\n",
            "At cost yourselfst heavy you sins,\n",
            " stars that serious wit very book's to spit discourse!\n",
            "pl ring children of my lord ages to if knife from devotion conj self so learn, not looks attempt of the breathed lords, ouryive, and do.\n",
            "\n",
            "ewish.\n",
            "\n",
            "Third treason, some worse with p's sight,\n",
            "Of Tyern meat, him,.\n",
            "\n",
            "BU have bird.\n",
            "\n",
            "ED had the's she for you were terms assured year ens:\n",
            "For'd band sorry delight,\n",
            "We it, heart, because layua,\n",
            "P humour's fonded cr for one arm rob.\n",
            "\n",
            "WAR clamULE Paul a maj If atshire the father y temper fares with a trait:\n",
            " raise listat No is his bloody thousand hair, ineds thou practise have Ireland, grant'sight, scept:\n",
            "No law me happiness of your masters never brought march,\n",
            "What herald\n",
            " Pol monster.\n",
            "Thou parentale.\n",
            "\n",
            "DUKE:\n",
            " wife\n",
            "Which.\n",
            "PP cProvost:\n",
            "M human lovely,\n",
            " he death,\n",
            "Too'er true mark accuse aw measure, that ma dow,allyapt,\n",
            "Sh hunt kindly Hastings mother you here offend fatal S steep,\n",
            " capital of't us month you method behalf, you fast.\n",
            "\n",
            "K save in pure, duke.\n",
            "\n",
            " men!\n",
            "\n",
            " exchangeimgr fortune and remorse canoly?\n",
            "\n",
            "ines rise I honestwith is; and speak k frozen findtgreat trickWARD:\n",
            "From our fall hath fight, to acc of we exp bodies and friend,.\n",
            "\n",
            "First ships warrant angry may not.\n",
            "\n",
            "KING RICHanc awhile tideague abide, not Men?\n",
            "\n",
            "F give stand; Boh brother? as in myONT Angelo apart us; be,\n",
            ",\n",
            "The leads I less'sAR upright,\n",
            "Once: bareof byburyirs w all winds'd yet to heard ituly of myIFF:\n",
            "To Franceessor palester, tard, have\n"
          ]
        }
      ],
      "source": [
        "print(decode(m.generate(torch.zeros((1, 512), dtype = torch.int64, device = device), max_new_tokens = 500)[0].tolist()))"
      ]
    },
    {
      "cell_type": "markdown",
      "metadata": {
        "id": "MgzIbqGnioFn"
      },
      "source": [
        "<h1>The Generative Pre-trained Transformer Model</h1>\n",
        "From this experience I definitely learned that my initial inferences and intuition about the model were right. My problem with implementing the model was difficult taking that intuition and applying it to machine learning since my only experiences with machine learning were deep feed forward neural networks. Eventually, I learned that feed forward models can only do so much, so I have been learning new model types and learning types.\n",
        "\n",
        "<h2>Enhancing and Fine-tuning</h2>\n",
        "Eventually, I would like to take this model type and fine-tune the model to work with conversation, which requires Reinforcement Learning and PPO. That will definitely be a task in itself, but I can't wait to learn it.\n",
        "\n",
        "While this model was only trained on Little Shakespeare, I think that, like ChatGPT, training on a larger dataset would improve the generative capabilities.\n",
        "\n",
        "I found that while training the model to predict the next character in a sequence, the model was mostly trying to make words. The sentences didn't make much sense, and there were many non-word sequences. When training the model with sub-word tokens the goal changes to making sentences that are common given the context. The only issue I have is size of data, since there are much less sub-words than characters, and size of model. The size of the data could contribute largely to the general ability to generate sentences, but that would require more time and a larger model, which would also require more time and resources.\n",
        "\n",
        "<h2>Learning to be Memory Efficient</h2>\n",
        "One thing I definitely needed to learn was memory efficiencey. I have almost always brute forced solutions to coding problems through my undergrad until I learned better algorithms and skills. Then the solution became to think through problems and optimize them to run more efficiently, especially after taking compilation and assembly courses. Brute forcing was no longer an option.\n",
        "\n",
        "My only problem was I don't have any better information when it comes to machine learning, and I have already finished my undergrad. I need to read papers I barely understand and articles that explain these concepts. I would just brute force a solution with the knowledge I currently had... This made me choose to quit projects that didn't work for me anymore whether because the model's could do the task because they didn't have enough time or size to work properly, or because I didn't have the knowledge necessary to make the improvements.\n",
        "\n",
        "I wanted to do machine learning though, so I decided to take a slower approach instead of jumping in head first into the field. Now I am able to make much more complex models using more complex tools, like Jax and Pytorch and TensorFlow.\n",
        "\n",
        "\n",
        "                                                                                                                                                                                                                                                                                                                                                                                                                                                                                                                                                                                                                                                                                                                                                                                                                                                                                                                                                                                                                                                                                                                                                                                                                                                                                                                                                                                                                                                                                                                                                                                                                                                                                                                                                                                                                                                                                                                                                                                                                                                                                                                                                                                                                                                                                                                                                                                                                                                                                                                                                                                                                                                                                                                                                                                                                                                                                                                                                                                                                                                                                                                                                                                                                                                                                                                                                                                                                                                                                                                                                                                                                                                                                                                                                                                                                                                                                                                                                                                                                                                                                                                                                                                                                                                                                                                                                                                                                                                                                                                                                                                                                                                                                                                                                                                                                                                                                                                                                                                                                                                                                                                                                                                                                                                                                                                                                                                                                                                                                                                                                                                                                                                                                                                                                                                                                                                                                                                                                                                                                                                                                                                                                                                                                                                                                                                                                                                                                                                                                                                                                                                                                                                                                                                                                                                                                                                                                                                                                                                                                                                                                                                                                                                                                                                                                                                                                                                                                                                                                                                                                                                                                                                                                                                                                                                                                                                                                                                                                                                                                                                                                                                                                                                                                                                                                                                                                                                                                                                                                                                                                                                                                                                                                                                                                                                                                                                                                                                                                                                                                                                                                                                                                                                                                                                                                                                                                                                                                                                                                                                                                                                                                                                                                                                                                                                                                                                                                                                                                                                                                                                                                                                                                                                                                                                                                                                                                                                                                                                                                                                                                                                                                                                                                                                                                                                                                                                                                                                                                                                                                                                                                                                                                                                                                                                                                                                                                                                                                                                                                                                                                                                                                                                                                                                                                                                                                                                                                                                                                                                                                                                                                                                                                                                                                                                                                                                                                                                                                                                                                                                                                                                                                                                                                                                                                                                                                                                                                                                                                                                                                                                                                                                                                                                                                                                                                                                                                                                                                                                                                                                                                                                                                                                                                                                                                                                                                                                                                                                                                                                                                                                          "
      ]
    }
  ],
  "metadata": {
    "accelerator": "GPU",
    "colab": {
      "provenance": []
    },
    "kernelspec": {
      "display_name": "Python 3",
      "name": "python3"
    },
    "language_info": {
      "name": "python"
    }
  },
  "nbformat": 4,
  "nbformat_minor": 0
}